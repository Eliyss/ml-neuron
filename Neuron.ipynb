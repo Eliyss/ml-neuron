{
 "cells": [
  {
   "cell_type": "code",
   "execution_count": 7,
   "metadata": {},
   "outputs": [],
   "source": [
    "import numpy as np\n",
    "\n",
    "class neuron:\n",
    "    def __init__(self):\n",
    "        self.weights=[0.5, 0.5, 0.5]\n",
    "        self.bias = 0\n",
    "\n",
    "    def predict(self, X):\n",
    "        return 0\n",
    "    \n",
    "    def sigmoid(x):\n",
    "        return  1/(1 + np.exp(-x))\n",
    "    \n",
    "\n",
    "        \n",
    "    def reLU(self, X):\n",
    "        \n",
    "        return np.maximum(0, np.dot(self.weights, X)+self.bias)\n",
    "    \n",
    "        \n",
    "\n",
    "        \n",
    "    \n",
    "class model:\n",
    "\n",
    "    def __init__(self):\n",
    "        #self.layers = np.array([neuron for i in [0,1]])\n",
    "        self.layers = np.array([neuron() for i in [0]])\n",
    "    \n",
    "    def add():\n",
    "        return 0\n",
    "    \n",
    "    def fit(self, X, y):\n",
    "        \n",
    "        for i in range(1):\n",
    "            yp = self.layers[i].reLU(X)\n",
    "            print(yp)\n",
    "            \n",
    "        #back propagation\n",
    "        \n",
    "        for i in range(1):\n",
    "            for j in range(3):\n",
    "                self.layers[i].weights[j] += 0.1*2*(y[0]-yp)*(yp>0)*X[j]\n",
    "        \n",
    "        \n",
    "        #dcdf=2*(y-yp)\n",
    "        #dfdz=(yp>0)\n",
    "        #dzdw=x\n",
    "        #dzdb=1\n",
    "    def predict(self, X):\n",
    "        return 0\n",
    "        \n",
    "        "
   ]
  },
  {
   "cell_type": "code",
   "execution_count": 25,
   "metadata": {},
   "outputs": [],
   "source": [
    "class model1:\n",
    "\n",
    "    def __init__(self):\n",
    "        self.layers = []\n",
    "        self.shape = []\n",
    "    \n",
    "    def add(self, val):\n",
    "        self.layers.append([neuron() for i in range(val)])\n",
    "        self.shape.append(val)\n",
    "        return 0\n",
    "    \n",
    "    \n",
    "    def fit(self, X, y):\n",
    "        for i in range(len(self.shape)):\n",
    "            for j in range(self.shape[i]):\n",
    "                yp = self.layers[i][j].reLU(X)\n",
    "                print(yp)\n",
    "\n",
    "        #back propagation\n",
    "        \n",
    "        for i in range(len(self.shape)):\n",
    "            for k in range(self.shape[i]):\n",
    "                for j in range(3):\n",
    "                    self.layers[i][k].weights[j] += 0.1*2*(y[0]-yp)*(yp>0)*X[j]\n",
    "        \n",
    "        \n",
    "        #dcdf=2*(y-yp)\n",
    "        #dfdz=(yp>0)\n",
    "        #dzdw=x\n",
    "        #dzdb=1\n",
    "\n",
    "        \n",
    "    def predict(self, X):\n",
    "        return 0"
   ]
  },
  {
   "cell_type": "code",
   "execution_count": 8,
   "metadata": {},
   "outputs": [
    {
     "data": {
      "text/plain": [
       "0.5"
      ]
     },
     "execution_count": 8,
     "metadata": {},
     "output_type": "execute_result"
    }
   ],
   "source": [
    "a = neuron()\n",
    "a.weights[0]"
   ]
  },
  {
   "cell_type": "code",
   "execution_count": 9,
   "metadata": {},
   "outputs": [],
   "source": [
    "np.random.seed(2)\n",
    "data = np.random.rand(3)\n",
    "data\n",
    "y = [1]"
   ]
  },
  {
   "cell_type": "code",
   "execution_count": 10,
   "metadata": {},
   "outputs": [
    {
     "data": {
      "text/plain": [
       "array([0.4359949 , 0.02592623, 0.54966248])"
      ]
     },
     "execution_count": 10,
     "metadata": {},
     "output_type": "execute_result"
    }
   ],
   "source": [
    "data"
   ]
  },
  {
   "cell_type": "code",
   "execution_count": 11,
   "metadata": {},
   "outputs": [
    {
     "data": {
      "text/plain": [
       "<__main__.model at 0x7f448c3e2d90>"
      ]
     },
     "execution_count": 11,
     "metadata": {},
     "output_type": "execute_result"
    }
   ],
   "source": [
    "test = model()\n",
    "test"
   ]
  },
  {
   "cell_type": "code",
   "execution_count": 12,
   "metadata": {},
   "outputs": [
    {
     "name": "stdout",
     "output_type": "stream",
     "text": [
      "0.5057918059243021\n",
      "[0.5430944506427621, 0.5025625912421701, 0.554329540108722]\n",
      "0.5545101146879521\n",
      "[0.5819407144331379, 0.5048725660508863, 0.6033033549548265]\n",
      "0.5984258450297096\n",
      "[0.6169575713129438, 0.5069548269784562, 0.6474494039694302]\n",
      "0.6380124279877976\n",
      "[0.6485225185201602, 0.5088318217206169, 0.6872436011281352]\n",
      "0.6736966244727981\n",
      "[0.6769758401764777, 0.5105237851126453, 0.723114945514629]\n",
      "0.7058631259394259\n",
      "[0.7026242757009566, 0.5120489572698504, 0.7554501461209555]\n",
      "0.7348587015309203\n",
      "[0.7257443265969227, 0.513423780224102, 0.7845977907418541]\n",
      "0.7609959364041106\n",
      "[0.7465852372607289, 0.514663075176221, 0.8108721039056935]\n",
      "0.784556601535956\n",
      "[0.7653716819468233, 0.5157802022750945, 0.8345563343541649]\n",
      "0.8057946913395695\n",
      "[0.7823061868557957, 0.5167872046460019, 0.8559058085892632]\n"
     ]
    }
   ],
   "source": [
    "for i in range(10):\n",
    "    test.fit(data, y)\n",
    "    print(test.layers[0].weights)"
   ]
  },
  {
   "cell_type": "code",
   "execution_count": 31,
   "metadata": {},
   "outputs": [
    {
     "data": {
      "text/plain": [
       "[[<__main__.neuron at 0x7f4484063c50>]]"
      ]
     },
     "execution_count": 31,
     "metadata": {},
     "output_type": "execute_result"
    }
   ],
   "source": [
    "test2 = model1()\n",
    "test2.layers\n",
    "test2.add(1)\n",
    "test2.layers"
   ]
  },
  {
   "cell_type": "code",
   "execution_count": 32,
   "metadata": {},
   "outputs": [
    {
     "name": "stdout",
     "output_type": "stream",
     "text": [
      "0.5057918059243021\n",
      "[0.5430944506427621, 0.5025625912421701, 0.554329540108722]\n",
      "0.5545101146879521\n",
      "[0.5819407144331379, 0.5048725660508863, 0.6033033549548265]\n",
      "0.5984258450297096\n",
      "[0.6169575713129438, 0.5069548269784562, 0.6474494039694302]\n",
      "0.6380124279877976\n",
      "[0.6485225185201602, 0.5088318217206169, 0.6872436011281352]\n",
      "0.6736966244727981\n",
      "[0.6769758401764777, 0.5105237851126453, 0.723114945514629]\n",
      "0.7058631259394259\n",
      "[0.7026242757009566, 0.5120489572698504, 0.7554501461209555]\n",
      "0.7348587015309203\n",
      "[0.7257443265969227, 0.513423780224102, 0.7845977907418541]\n",
      "0.7609959364041106\n",
      "[0.7465852372607289, 0.514663075176221, 0.8108721039056935]\n",
      "0.784556601535956\n",
      "[0.7653716819468233, 0.5157802022750945, 0.8345563343541649]\n",
      "0.8057946913395695\n",
      "[0.7823061868557957, 0.5167872046460019, 0.8559058085892632]\n"
     ]
    }
   ],
   "source": [
    "for i in range(10):\n",
    "    test2.fit(data, y)\n",
    "    print(test2.layers[0][0].weights)"
   ]
  },
  {
   "cell_type": "code",
   "execution_count": null,
   "metadata": {},
   "outputs": [],
   "source": []
  }
 ],
 "metadata": {
  "kernelspec": {
   "display_name": "Python 3",
   "language": "python",
   "name": "python3"
  },
  "language_info": {
   "codemirror_mode": {
    "name": "ipython",
    "version": 3
   },
   "file_extension": ".py",
   "mimetype": "text/x-python",
   "name": "python",
   "nbconvert_exporter": "python",
   "pygments_lexer": "ipython3",
   "version": "3.7.6"
  }
 },
 "nbformat": 4,
 "nbformat_minor": 4
}
