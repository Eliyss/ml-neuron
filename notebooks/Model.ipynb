{
 "cells": [
  {
   "cell_type": "code",
   "execution_count": 166,
   "metadata": {},
   "outputs": [],
   "source": [
    "import numpy as np \n",
    "\n",
    "class InputLayer:\n",
    "    def __init__(self, num_input):\n",
    "        self.num_input = num_input\n",
    "        \n",
    "    def predict(self, x):\n",
    "        return x\n",
    "\n",
    "def reLu(x):\n",
    "        return np.maximum(0, x)\n",
    "    \n",
    "def dReLu(x):\n",
    "    return 1*(x>0)\n",
    "    \n",
    "class Layer:\n",
    "    def __init__(self, num_input, num_neuron, func='reLu'):\n",
    "        np.random.seed(10)\n",
    "        self.weights = np.random.rand(num_neuron, num_input)\n",
    "        self.bias = np.zeros((num_neuron, 1))\n",
    "    \n",
    "    def update(self, update_grad, update_bias, lr):\n",
    "        self.weights = np.add(self.weights, lr*update_grad)\n",
    "        self.bias = np.add(self.bias, lr*update_bias)\n",
    "    \n",
    "    def backError(self):\n",
    "        return np.vectorize(dReLu)(self.z)\n",
    "        \n",
    "    def predict(self, prev_activation):\n",
    "        #print('hey')\n",
    "        #print(self.weights)\n",
    "        #print(prev_activation)\n",
    "        self.z = np.matmul(self.weights, prev_activation)\n",
    "        #print('zz')\n",
    "        #print(self.z)\n",
    "        a = np.vectorize(reLu)(np.add(self.z, self.bias))\n",
    "        return a\n",
    "    \n",
    "    \n",
    "        "
   ]
  },
  {
   "cell_type": "code",
   "execution_count": 176,
   "metadata": {},
   "outputs": [
    {
     "data": {
      "text/plain": [
       "array([[0.4359949 , 0.02592623, 0.54966248],\n",
       "       [0.43532239, 0.4203678 , 0.33033482],\n",
       "       [0.20464863, 0.61927097, 0.29965467]])"
      ]
     },
     "execution_count": 176,
     "metadata": {},
     "output_type": "execute_result"
    }
   ],
   "source": [
    "np.random.seed(2)\n",
    "data = np.random.rand(3,3)\n",
    "y = np.array([[1], [1], [0]])\n",
    "data"
   ]
  },
  {
   "cell_type": "code",
   "execution_count": 190,
   "metadata": {},
   "outputs": [
    {
     "ename": "IndexError",
     "evalue": "index 3 is out of bounds for axis 0 with size 3",
     "output_type": "error",
     "traceback": [
      "\u001b[0;31m---------------------------------------------------------------------------\u001b[0m",
      "\u001b[0;31mIndexError\u001b[0m                                Traceback (most recent call last)",
      "\u001b[0;32m<ipython-input-190-06b6a6490764>\u001b[0m in \u001b[0;36m<module>\u001b[0;34m\u001b[0m\n\u001b[0;32m----> 1\u001b[0;31m \u001b[0mnp\u001b[0m\u001b[0;34m.\u001b[0m\u001b[0mreshape\u001b[0m\u001b[0;34m(\u001b[0m\u001b[0mdata\u001b[0m\u001b[0;34m[\u001b[0m\u001b[0;36m3\u001b[0m\u001b[0;34m]\u001b[0m\u001b[0;34m,\u001b[0m \u001b[0;34m(\u001b[0m\u001b[0;34m-\u001b[0m\u001b[0;36m1\u001b[0m\u001b[0;34m,\u001b[0m\u001b[0;36m1\u001b[0m\u001b[0;34m)\u001b[0m\u001b[0;34m)\u001b[0m\u001b[0;34m\u001b[0m\u001b[0;34m\u001b[0m\u001b[0m\n\u001b[0m",
      "\u001b[0;31mIndexError\u001b[0m: index 3 is out of bounds for axis 0 with size 3"
     ]
    }
   ],
   "source": [
    "np.reshape(data[3], (-1,1))"
   ]
  },
  {
   "cell_type": "code",
   "execution_count": 177,
   "metadata": {},
   "outputs": [
    {
     "data": {
      "text/plain": [
       "array([[1],\n",
       "       [1],\n",
       "       [0]])"
      ]
     },
     "execution_count": 177,
     "metadata": {},
     "output_type": "execute_result"
    }
   ],
   "source": [
    "y"
   ]
  },
  {
   "cell_type": "code",
   "execution_count": 174,
   "metadata": {},
   "outputs": [
    {
     "data": {
      "text/plain": [
       "array([[0.43532239],\n",
       "       [0.4203678 ],\n",
       "       [0.33033482]])"
      ]
     },
     "execution_count": 174,
     "metadata": {},
     "output_type": "execute_result"
    }
   ],
   "source": [
    "\n",
    "data2"
   ]
  },
  {
   "cell_type": "code",
   "execution_count": 137,
   "metadata": {},
   "outputs": [
    {
     "data": {
      "text/plain": [
       "array([[0.77132064, 0.02075195, 0.63364823],\n",
       "       [0.74880388, 0.49850701, 0.22479665]])"
      ]
     },
     "execution_count": 137,
     "metadata": {},
     "output_type": "execute_result"
    }
   ],
   "source": [
    "aa = Layer(3, 2)\n",
    "aa.weights"
   ]
  },
  {
   "cell_type": "code",
   "execution_count": 138,
   "metadata": {},
   "outputs": [
    {
     "data": {
      "text/plain": [
       "array([[0.],\n",
       "       [0.]])"
      ]
     },
     "execution_count": 138,
     "metadata": {},
     "output_type": "execute_result"
    }
   ],
   "source": [
    "aa.bias"
   ]
  },
  {
   "cell_type": "code",
   "execution_count": 139,
   "metadata": {},
   "outputs": [
    {
     "name": "stdout",
     "output_type": "stream",
     "text": [
      "hey\n",
      "[[0.77132064 0.02075195 0.63364823]\n",
      " [0.74880388 0.49850701 0.22479665]]\n",
      "[[0.4359949 ]\n",
      " [0.02592623]\n",
      " [0.54966248]]\n",
      "zz\n",
      "[[0.68512255]\n",
      " [0.46296137]]\n"
     ]
    },
    {
     "data": {
      "text/plain": [
       "array([[1],\n",
       "       [1]])"
      ]
     },
     "execution_count": 139,
     "metadata": {},
     "output_type": "execute_result"
    }
   ],
   "source": [
    "aa.predict(data)\n",
    "aa.backError()"
   ]
  },
  {
   "cell_type": "code",
   "execution_count": 167,
   "metadata": {},
   "outputs": [],
   "source": [
    "class model:\n",
    "    def __init__(self):\n",
    "        #l1 = Inputlayer(3)\n",
    "        self.l2 = Layer(3, 2, 'reLu')\n",
    "        self.l3 = Layer(2, 2, 'reLu')\n",
    "        self.l4 = Layer(2, 1, 'reLu')\n",
    "        \n",
    "        self.layers = []\n",
    "    \n",
    "    def add(self, val, inputLayer=False):\n",
    "        self.shape.append(val)\n",
    "        return 0\n",
    "    \n",
    "    def compil(self):\n",
    "        self.calcVals = np.zeros(np.sum(self.shape))\n",
    "        \n",
    "        num = 0\n",
    "        \n",
    "        for i in range(len(self.shape)-1):\n",
    "            num += (self.shape[i]+1)*self.shape[i+1]\n",
    "        \n",
    "    def fit(self, X, y, lr=0.1):\n",
    "        l1_act = X #l1.predict(X)\n",
    "        #print(self.l2.predict(l1_act))\n",
    "        l2_act = self.l2.predict(l1_act)\n",
    "        l3_act = self.l3.predict(l2_act)\n",
    "        l4_act = self.l4.predict(l3_act)\n",
    "        #print(l2_act)\n",
    "        #print(l3_act)\n",
    "        print(l4_act)\n",
    "\n",
    "        error = np.subtract(y, l4_act)\n",
    "        \n",
    "        d_error = 2*error\n",
    "        \n",
    "        l4_error = np.multiply(d_error, self.l4.backError())\n",
    "        #print('l4 err', l4_error.shape)\n",
    "        l4_grad = np.matmul(l4_error, l3_act.T)\n",
    "        #print('l4 grad', l4_error.shape)\n",
    "        #print(self.l4.weights)\n",
    "        #print(l4_error)\n",
    "        l3_temp = np.matmul(self.l4.weights.T, l4_error)\n",
    "        #print('l3 temperr', l4_error.shape)\n",
    "        l3_error = np.multiply(l3_temp, self.l3.backError())\n",
    "        #print('l3 err', l4_error.shape)\n",
    "        l3_grad = np.matmul(l3_error, l2_act.T)\n",
    "        \n",
    "        l2_error = np.multiply(np.matmul(self.l3.weights.T, l3_error), self.l2.backError())\n",
    "        \n",
    "        l2_grad = np.matmul(l2_error, l1_act.T)\n",
    "        \n",
    "        self.l4.update(l4_grad, l4_error, lr)\n",
    "        self.l3.update(l3_grad, l3_error, lr)\n",
    "        self.l2.update(l2_grad, l2_error, lr)\n",
    "        \n",
    "        return 0\n",
    "        "
   ]
  },
  {
   "cell_type": "code",
   "execution_count": 168,
   "metadata": {},
   "outputs": [
    {
     "name": "stdout",
     "output_type": "stream",
     "text": [
      "[[0.43121709]]\n"
     ]
    },
    {
     "data": {
      "text/plain": [
       "0"
      ]
     },
     "execution_count": 168,
     "metadata": {},
     "output_type": "execute_result"
    }
   ],
   "source": [
    "test = model()\n",
    "test.fit(data, y)"
   ]
  },
  {
   "cell_type": "code",
   "execution_count": 194,
   "metadata": {},
   "outputs": [],
   "source": [
    "#for i in range(1000):\n",
    "#    for j in range(3):\n",
    "#        test.fit(np.reshape(data[j], (-1, 1)), np.reshape(y[j], (-1, 1)))"
   ]
  }
 ],
 "metadata": {
  "kernelspec": {
   "display_name": "Python 3",
   "language": "python",
   "name": "python3"
  },
  "language_info": {
   "codemirror_mode": {
    "name": "ipython",
    "version": 3
   },
   "file_extension": ".py",
   "mimetype": "text/x-python",
   "name": "python",
   "nbconvert_exporter": "python",
   "pygments_lexer": "ipython3",
   "version": "3.7.6"
  }
 },
 "nbformat": 4,
 "nbformat_minor": 4
}
